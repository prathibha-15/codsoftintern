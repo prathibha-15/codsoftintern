{
  "nbformat": 4,
  "nbformat_minor": 0,
  "metadata": {
    "colab": {
      "provenance": [],
      "mount_file_id": "1jV7CvEyblmwsVE52xcpUvlXLfMtgbDXf",
      "authorship_tag": "ABX9TyMC5lSdDjgl0bvtO7nFm5rP",
      "include_colab_link": true
    },
    "kernelspec": {
      "name": "python3",
      "display_name": "Python 3"
    },
    "language_info": {
      "name": "python"
    }
  },
  "cells": [
    {
      "cell_type": "markdown",
      "metadata": {
        "id": "view-in-github",
        "colab_type": "text"
      },
      "source": [
        "<a href=\"https://colab.research.google.com/github/prathibha-15/codsoftintern/blob/main/codsoft_task_no_1.ipynb\" target=\"_parent\"><img src=\"https://colab.research.google.com/assets/colab-badge.svg\" alt=\"Open In Colab\"/></a>"
      ]
    },
    {
      "cell_type": "code",
      "source": [
        "def chatbot(user_input):\n",
        "  user_input=user_input.lower()\n",
        "  if \"hello\" in user_input:\n",
        "    return \"How can i assist you today?\"\n",
        "  elif \"how are you\" in user_input:\n",
        "    return \"I am good.What about you?\"\n",
        "  elif \"bye\" in user_input:\n",
        "    return \"Goodbye! Have a great day.\"\n",
        "  else:\n",
        "    return \"I'm sorry, I didn't understand that\"\n",
        "while True:\n",
        "  user_input=input(\"You:\")\n",
        "  if user_input.lower()==\"exit\":\n",
        "    break\n",
        "  response=chatbot(user_input)\n",
        "  print(\"Chatbot:\",response)\n"
      ],
      "metadata": {
        "colab": {
          "base_uri": "https://localhost:8080/"
        },
        "id": "YFjSkZ6twyz8",
        "outputId": "917c004c-c1e4-4c21-fdcb-a1a6bb3b4c59"
      },
      "execution_count": 3,
      "outputs": [
        {
          "name": "stdout",
          "output_type": "stream",
          "text": [
            "You:hello\n",
            "Chatbot: How can i assist you today?\n",
            "You:how are you\n",
            "Chatbot: I am good.What about you?\n",
            "You:i am good\n",
            "Chatbot: I'm sorry, I didn't understand that\n",
            "You:bye\n",
            "Chatbot: Goodbye! Have a great day.\n",
            "You:exit\n"
          ]
        }
      ]
    }
  ]
}